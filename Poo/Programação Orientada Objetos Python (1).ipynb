{
 "cells": [
  {
   "cell_type": "markdown",
   "metadata": {},
   "source": [
    "Antes de estudar a video aula, é interessante entender melhor o conceito de classes e objetos além de herança. Assim, esse documento vai explicar um pouco a ideia por trás. Caso queiram, podem também consultar estes slides: Introdução, Herança.\n",
    "\n",
    "Sempre lembrem de dar `ctrl+enter` para mandar executar cada código abaixo."
   ]
  },
  {
   "cell_type": "markdown",
   "metadata": {},
   "source": [
    "**Roteiro para estudos sugerido**\n",
    "\n",
    "Não é necessário estudar tudo de uma vez para entender a aula 2 de Python. Faça na seguinte ordem: \n",
    "- Assista as video aulas sobre estruturas de dados (antes de classes)\n",
    "- Entenda a parte de classes apresentada abaixo\n",
    "- Assista a video aula toda parte de classes, menos herança e o que tiver a seguir\n",
    "- Se quiser, pode fazer a prática presente nos slides agora\n",
    "- Com isso, já o suficiente também para fazer as práticas iniciais de aprendizado de máquina (prática 1 e 2)\n",
    "- Logo após, entenda a parte de herança e metodos/classes abstratas, com isso, você já poderá fazer a prática e veja a video aula correspondente para vocês conseguirem fazer a prática de avaliação"
   ]
  },
  {
   "cell_type": "markdown",
   "metadata": {},
   "source": [
    "## Classes e Objetos"
   ]
  },
  {
   "cell_type": "markdown",
   "metadata": {},
   "source": [
    "Vamos supor que temos uma lista livros de uma biblioteca e queremos imprimir quantos livros por autores temos. Podemos fazer [um dicionário](https://daniel-hasan.github.io/cefet-web-grad/classes/python2/#mais-colecoes). Para alterar um valor da pontuação."
   ]
  },
  {
   "cell_type": "code",
   "execution_count": null,
   "metadata": {},
   "outputs": [],
   "source": [
    "from typing import Dict\n",
    "def passou_fase(dic_jogador:Dict):\n",
    "    dic_jogador[\"pontos\"] = dic_jogador[\"pontos\"] + 10        "
   ]
  },
  {
   "cell_type": "markdown",
   "metadata": {},
   "source": [
    "Exemplo de execução:"
   ]
  },
  {
   "cell_type": "code",
   "execution_count": null,
   "metadata": {},
   "outputs": [],
   "source": [
    "dic_alice = {\"nome\":\"Alice\",\n",
    "                \"pontos\":1002}\n",
    "dic_bob = {\"nome\":\"Bob\",\n",
    "                \"pontos\":222}\n",
    "passou_fase(dic_alice)\n",
    "passou_fase(dic_bob)"
   ]
  },
  {
   "cell_type": "code",
   "execution_count": null,
   "metadata": {},
   "outputs": [],
   "source": [
    "dic_alice"
   ]
  },
  {
   "cell_type": "code",
   "execution_count": null,
   "metadata": {},
   "outputs": [],
   "source": [
    "dic_bob"
   ]
  },
  {
   "cell_type": "markdown",
   "metadata": {},
   "source": [
    "O problema de usar dicionários e funções nesse contexto é: \n",
    "\n",
    "- Um dicionário tem que estar sempre padronizado (chave e valor). Por exemplo, sempre que criarmos um jogador novo, temos que repetir os nomes de identicos (como acima). Um erro, ocorreria um erro na função `passou_fase`.\n",
    "- As funções devem estar bem organizadas\n",
    "\n",
    "Por isso, é importante fazermos uma estrutura melhor que o dicionario que as funções estariam dentro dessas estruturas. Essa estrutura é a **classe**, as funções dentro delas são chamadas de **métodos** e, cada instancia, (exemplo) é um **objeto**. Veja o exemplo de classe:"
   ]
  },
  {
   "cell_type": "code",
   "execution_count": null,
   "metadata": {},
   "outputs": [],
   "source": [
    "class Jogador:\n",
    "    def __init__(self,nome:str ,pontos:int):\n",
    "        self.nome = nome\n",
    "        self.pontos = pontos\n",
    "\n",
    "    def passou_fase(self):\n",
    "        self.pontos = self.pontos + 10\n",
    "        \n",
    "    def __str__(self):\n",
    "        return f\"{self.nome}: {self.pontos}\"\n",
    "    \n",
    "    def __repr__(self):\n",
    "        return str(self)"
   ]
  },
  {
   "cell_type": "markdown",
   "metadata": {},
   "source": [
    "Nesse exemplo:\n",
    "\n",
    "- `Jogador`: é o nome da classe\n",
    "- `__init__`: é o construtor, ou seja, é o método que será chamado ao inicializar um objeto\n",
    "- `self`: é uma referencia ao objeto corrente. Por exemplo, se quisermos editar o valor do ponto do jogador corrente, faremos `self.pontos`, como apresentado acima\n",
    "- `self.pontos` e `self.nome` são **atributos** da classe. Ou seja, dados que a classe armazena\n",
    "- `__str__`: é o metodo que retorna uma representação como string do objeto. Quando executamos `str(objeto)` será o formato que será gerado\n",
    "- `__repr__`: representação do objeto, usualmente, coloco a mesma do `__str__`. Essa representação é aquela que, ao colocarmos no console ou dentro de um vetor, aparecerá. \n"
   ]
  },
  {
   "cell_type": "markdown",
   "metadata": {},
   "source": [
    "A instanciação de jogadores e execução do método `passou_fase` é feito da seguinte forma:"
   ]
  },
  {
   "cell_type": "code",
   "execution_count": null,
   "metadata": {},
   "outputs": [],
   "source": [
    "alice = Jogador(\"Alice\", 1002)\n",
    "bob = Jogador(\"Bob\", 222)\n",
    "\n",
    "alice.passou_fase()\n",
    "bob.passou_fase()\n",
    "\n"
   ]
  },
  {
   "cell_type": "code",
   "execution_count": null,
   "metadata": {},
   "outputs": [],
   "source": [
    "alice"
   ]
  },
  {
   "cell_type": "code",
   "execution_count": null,
   "metadata": {},
   "outputs": [],
   "source": [
    "bob"
   ]
  },
  {
   "cell_type": "markdown",
   "metadata": {},
   "source": [
    "Podemos alterar os valores externamente da seguinte forma: "
   ]
  },
  {
   "cell_type": "code",
   "execution_count": null,
   "metadata": {},
   "outputs": [],
   "source": [
    "alice.pontos = 221\n",
    "alice.nome = \"Alice1984\"\n"
   ]
  },
  {
   "cell_type": "code",
   "execution_count": null,
   "metadata": {},
   "outputs": [],
   "source": [
    "alice"
   ]
  },
  {
   "cell_type": "markdown",
   "metadata": {},
   "source": [
    "## Exemplo com associação entre Classes"
   ]
  },
  {
   "cell_type": "markdown",
   "metadata": {},
   "source": [
    "Os atributos de uma classe podem representar uma associação a outra classe. Por exemplo, temos as classes abaixo: "
   ]
  },
  {
   "cell_type": "code",
   "execution_count": null,
   "metadata": {},
   "outputs": [],
   "source": [
    "class Aluno:\n",
    "    def __init__(self, num_matricula:int, nom_aluno:str):\n",
    "        self.nom_aluno = nom_aluno\n",
    "        self.num_matricula = num_matricula\n",
    "        \n",
    "    def __str__(self):\n",
    "        return f\"{self.nom_aluno}({self.num_matricula})\"\n",
    "    def __repr__(self):\n",
    "        return str(self)\n",
    "    \n",
    "class Professor:\n",
    "    def __init__(self, nom_professor:str, genero:str):\n",
    "        self.nom_professor = nom_professor\n",
    "        self.genero = genero\n",
    "        \n",
    "    def __str__(self):\n",
    "        if self.genero==\"F\":\n",
    "            return f\"Profª. {self.nom_professor}\"\n",
    "        else:\n",
    "            return f\"Prof. {self.nom_professor}\"\n",
    "    def __repr__(self):\n",
    "        return str(self)\n",
    "    \n",
    "class Disciplina:\n",
    "    def __init__(self, nom_disciplina:str):\n",
    "        self.nom_disciplina = nom_disciplina\n",
    "    def __str__(self):\n",
    "        return self.nom_disciplina\n",
    "    def __repr__(self):\n",
    "        return str(self)"
   ]
  },
  {
   "cell_type": "code",
   "execution_count": null,
   "metadata": {},
   "outputs": [],
   "source": [
    "alice = Aluno(1123,\"Alice Morais\")\n",
    "bob = Aluno(123,\"Bob Silva\")\n",
    "carol = Aluno(333, \"Carol Peixoto\")\n",
    "denise = Aluno(334, \"Denise Motta\")\n",
    "\n",
    "prof_dani = Professor(\"Daniel Silva\", \"M\")\n",
    "prof_elisa = Professor(\"Elisa Silva\", \"F\")\n",
    "\n",
    "disc_calculo = Disciplina(\"Calculo 1\")\n",
    "disc_pc1 = Disciplina(\"PC1\")"
   ]
  },
  {
   "cell_type": "markdown",
   "metadata": {},
   "source": [
    "Agora iremos fazer uma turma. A turma possui as seguintes relações que são modeladas como asssociação:\n",
    "- uma turma **é ministrada por** um professor\n",
    "- uma turma **é de** uma disciplina\n",
    "- uma turma **é formada por** alunos\n",
    "\n",
    "As associações são criadas da mesma forma que um atributo convencional, veja o exemplo abaixo:"
   ]
  },
  {
   "cell_type": "code",
   "execution_count": null,
   "metadata": {},
   "outputs": [],
   "source": [
    "class Turma:\n",
    "    def __init__(self, sigla_turma:str, ano:int, disciplina:Disciplina, professor:Professor):\n",
    "        self.sigla_turma = sigla_turma\n",
    "        self.ano = ano\n",
    "        self.professor = professor\n",
    "        self.disciplina = disciplina\n",
    "        self.arr_alunos = []\n",
    "    \n",
    "    def adiciona_aluno(self, aluno:Aluno):\n",
    "        self.arr_alunos.append(aluno)\n",
    "        \n",
    "    def __str__(self):\n",
    "        str_texto = f\"Turma: {self.sigla_turma} ano: {self.ano} Disciplina: {self.disciplina}\"\n",
    "        str_texto += f\" {self.professor}\\nAlunos matriculados: {len(self.arr_alunos)}\"\n",
    "        return str_texto\n",
    "    def __repr__(self):\n",
    "        return str(self)"
   ]
  },
  {
   "cell_type": "code",
   "execution_count": null,
   "metadata": {},
   "outputs": [],
   "source": [
    "#turma de calculo de 2014 ministrada pelo prof. daniel\n",
    "turma1 = Turma(\"T1\", 2014, disc_calculo, prof_dani )\n",
    "#turma de PC1 de 2018 ministrada pela Profa. Elisa\n",
    "turma2 = Turma(\"T2\", 2011, disc_pc1, prof_elisa)\n",
    "\n",
    "#adiciona os alunos da turma 1\n",
    "turma1.adiciona_aluno(alice)\n",
    "turma1.adiciona_aluno(bob)\n",
    "\n",
    "#adicona os alunos da turma 2\n",
    "turma2.adiciona_aluno(bob)#bob está em calculo e PC1\n",
    "turma2.adiciona_aluno(carol)\n",
    "turma2.adiciona_aluno(denise)\n",
    "\n",
    "print(turma1)\n",
    "print(turma2)"
   ]
  },
  {
   "cell_type": "markdown",
   "metadata": {},
   "source": [
    "Podemos acessar as associações da seguinte forma:"
   ]
  },
  {
   "cell_type": "code",
   "execution_count": null,
   "metadata": {},
   "outputs": [],
   "source": [
    "nom_professor = turma1.professor.nom_professor\n",
    "print(f\"Nome do professor: {nom_professor}\")"
   ]
  },
  {
   "cell_type": "markdown",
   "metadata": {},
   "source": [
    "Além disso, podemos navegar nas turmas e alunos da seguinte forma:"
   ]
  },
  {
   "cell_type": "code",
   "execution_count": null,
   "metadata": {},
   "outputs": [],
   "source": [
    "arr_turmas = [turma1, turma2]\n",
    "for turma in arr_turmas: \n",
    "    for aluno in turma.arr_alunos:\n",
    "        print(f\"O aluno {aluno} está matriculado na turma {turma.sigla_turma} de {turma.ano}\")"
   ]
  },
  {
   "cell_type": "markdown",
   "metadata": {},
   "source": [
    "Um fator importante é que um objeto na associação é passado por referencia. Isso significa que, se alterarmos um objeto, ele será alterado em todas as suas referencias. Veja no exemplo baixo em que mudamos o nome do `bob` e, consequentemente, é alterado em todas as suas associações, pois é uma **referencia ao mesmo objeto na memória**."
   ]
  },
  {
   "cell_type": "code",
   "execution_count": null,
   "metadata": {},
   "outputs": [],
   "source": [
    "bob.nom_aluno = \"Bob Silva Fernandez\"\n",
    "arr_turmas = [turma1, turma2]\n",
    "for turma in arr_turmas: \n",
    "    for aluno in turma.arr_alunos:\n",
    "        print(f\"O aluno {aluno} está matriculado na turma {turma.sigla_turma} de {turma.ano}\")"
   ]
  },
  {
   "cell_type": "markdown",
   "metadata": {},
   "source": [
    "## Atributos e métodos estaticos"
   ]
  },
  {
   "cell_type": "markdown",
   "metadata": {},
   "source": [
    "Atributos e métodos estáticos são elementos *da classe* e não estão atrelados a um objeto em especifico. Por exemplo, podemos fazer um contador de jogadores como atributo estático:\n"
   ]
  },
  {
   "cell_type": "code",
   "execution_count": null,
   "metadata": {},
   "outputs": [],
   "source": [
    "class Jogador:\n",
    "    NUMERO_JOGADORES = 0\n",
    "    def __init__(self,nome:str, pontos:int):\n",
    "        self.nome = nome\n",
    "        self.pontos = pontos\n",
    "        Jogador.NUMERO_JOGADORES += 1\n",
    "        \n",
    "    def passou_fase(self):\n",
    "        self.pontos = self.pontos + 10\n",
    "        \n",
    "    def __str__(self):\n",
    "        return f\"{self.nome}: {self.pontos}\"\n",
    "    \n",
    "    def __repr__(self):\n",
    "        return str(self)"
   ]
  },
  {
   "cell_type": "code",
   "execution_count": null,
   "metadata": {},
   "outputs": [],
   "source": [
    "alice = Jogador(\"Alice\",101)\n",
    "bob = Jogador(\"Bob\",102)\n",
    "print(Jogador.NUMERO_JOGADORES)"
   ]
  },
  {
   "cell_type": "markdown",
   "metadata": {},
   "source": [
    "Como foi possívell observar, para criarmos, criamos ele fora dos métodos e acessamos ele colocando o nome da classe, pois ele não é vinculado a um objeto."
   ]
  },
  {
   "cell_type": "markdown",
   "metadata": {},
   "source": [
    "Da mesma forma, métodos estáticos são métodos que são associados a classe e não ao objeto por exemplo:\n",
    "    "
   ]
  },
  {
   "cell_type": "code",
   "execution_count": null,
   "metadata": {},
   "outputs": [],
   "source": [
    "from typing import List\n",
    "class Jogador:\n",
    "    NUMERO_JOGADORES = 0\n",
    "    def __init__(self, nome:str, pontos:int):\n",
    "        self.nome = nome\n",
    "        self.pontos = pontos\n",
    "        Jogador.NUMERO_JOGADORES += 1\n",
    "        \n",
    "    def passou_fase(self):\n",
    "        self.pontos = self.pontos + 10\n",
    "    \n",
    "    @staticmethod\n",
    "    def obtem_ganhador(arr_jogadores:List[\"Jogador\"]) -> \"Jogador\":\n",
    "        jogador_max = arr_jogadores[0]\n",
    "        for jogador in arr_jogadores:\n",
    "            if jogador.pontos>jogador_max.pontos:\n",
    "                jogador_max = jogador\n",
    "                \n",
    "        return jogador_max\n",
    "            \n",
    "    def __str__(self):\n",
    "        return f\"{self.nome}: {self.pontos}\"\n",
    "    \n",
    "    def __repr__(self):\n",
    "        return str(self)"
   ]
  },
  {
   "cell_type": "code",
   "execution_count": null,
   "metadata": {},
   "outputs": [],
   "source": [
    "alice = Jogador(\"Alice\",101)\n",
    "bob = Jogador(\"Bob\",102)\n",
    "jogadores = [alice,bob]\n",
    "\n",
    "jogador_vencedor = Jogador.obtem_ganhador([alice, bob])\n",
    "print(f\"Vencedor: {jogador_vencedor}\")"
   ]
  },
  {
   "cell_type": "markdown",
   "metadata": {},
   "source": [
    "Usamos a anotação `staticmethod` veja também que não usamos o `self`, pois esse método não está associado a um objeto. Existe também que existe a anotação `classmethod` que será especificado nos slides/video aulas. Na dica de tipo, temos que colocar o Jogador entre aspas pois é a forma que fazemos se temos que associar um tipo de uma classe que ainda estaos especificando."
   ]
  },
  {
   "cell_type": "markdown",
   "metadata": {},
   "source": [
    "## Herança"
   ]
  },
  {
   "cell_type": "markdown",
   "metadata": {},
   "source": [
    "Considere a classe `Pessoa` abaixo:"
   ]
  },
  {
   "cell_type": "code",
   "execution_count": null,
   "metadata": {},
   "outputs": [],
   "source": [
    "class Pessoa:\n",
    "    def __init__(self, nome:str):\n",
    "        self.nome = nome\n",
    "    def dar_oi_para(self, pessoa:\"Pessoa\"):\n",
    "        print(f\"{self.nome} diz: Oi {pessoa.nome}! Tudo bem?\")"
   ]
  },
  {
   "cell_type": "code",
   "execution_count": null,
   "metadata": {},
   "outputs": [],
   "source": [
    "maria = Pessoa(\"Maria\")\n",
    "joao = Pessoa(\"João\")\n",
    "joao.dar_oi_para(maria)"
   ]
  },
  {
   "cell_type": "markdown",
   "metadata": {},
   "source": [
    "Funcionários também possuem as mesmas funcionalidades e dados das pessoas além do salario. Assim, para o Funcionário **herdar** os atributos e métodos da pessoa, faremos o seguinte:"
   ]
  },
  {
   "cell_type": "code",
   "execution_count": null,
   "metadata": {},
   "outputs": [],
   "source": [
    "class Funcionario(Pessoa):\n",
    "    def __init__(self, nome:str, salario:float):\n",
    "        super().__init__(nome)\n",
    "        self.salario = salario\n",
    "    \n",
    "    def aumenta_salario(self,aumento):\n",
    "        self.salario += aumento"
   ]
  },
  {
   "cell_type": "markdown",
   "metadata": {},
   "source": [
    "em que ao colocarmos `class Funcionario(Pessoa)` estamos falando que `Funcionario` herda as funcionalidades da pessoa. Podemos falar que:\n",
    "\n",
    "- Funcionário é **subclasse** de Pessoa\n",
    "- Pessoa é **superclasse** de Funcionário\n",
    "\n",
    "Mais um detalhe sobre a nomenclatura, `super().` invocamos um método da superclasse\n",
    "\n",
    "Assim, o código abaixo funciona sem problema algum: "
   ]
  },
  {
   "cell_type": "code",
   "execution_count": null,
   "metadata": {},
   "outputs": [],
   "source": [
    "alice = Funcionario(\"Alice\", 1000)\n",
    "alice.dar_oi_para(maria)"
   ]
  },
  {
   "cell_type": "markdown",
   "metadata": {},
   "source": [
    "**Herança versus associação:** \n",
    "\n",
    "Em alguns casos temos associações entre classes, ou seja, um classe **possui uma relação** com a outra. Por exemplo, um carro possui quatro pneus, uma turma possui uma disciplina associada.\n",
    "\n",
    "Uma herança é um relacionamento em que pensamos em algo mais especifico e mais generico de um mesma entidade (ou seja, classe). Por exemplo, carro e caminhão são automóveis. Professor e alunos são pessoas. Assim, podemos falar que herança de **relacionamento \"é um\"**. Lembre-se que uma subclasse sempre herdará todos os métodos e atributos da superclasse. Por esse motivo, apenas use herança quando realmente faça sentido o uso da mesma. "
   ]
  },
  {
   "cell_type": "markdown",
   "metadata": {},
   "source": [
    "### Sobreposição de métodos"
   ]
  },
  {
   "cell_type": "markdown",
   "metadata": {},
   "source": [
    "Vamos supor que queremos que funcionários cumprimentem as pessoas mais formalmente. Assim, podemos **sobrepor** o método `dar_oi_para`:"
   ]
  },
  {
   "cell_type": "code",
   "execution_count": null,
   "metadata": {},
   "outputs": [],
   "source": [
    "\n",
    "class Funcionario(Pessoa):\n",
    "    def __init__(self, nome:str, salario:float):\n",
    "        super().__init__(nome)\n",
    "        self.salario = salario\n",
    "    \n",
    "    def aumenta_salario(self, aumento:float):\n",
    "        self.salario += aumento\n",
    "    \n",
    "    def dar_oi_para(self,pessoa:\"Pessoa\"):\n",
    "        print(f\"{self.nome} diz: Bom dia {pessoa.nome}! Como vai?\")"
   ]
  },
  {
   "cell_type": "code",
   "execution_count": null,
   "metadata": {},
   "outputs": [],
   "source": [
    "alice = Funcionario(\"Alice\", 1000)\n",
    "alice.dar_oi_para(maria)"
   ]
  },
  {
   "cell_type": "markdown",
   "metadata": {},
   "source": [
    "## Classes e Métodos abstratos"
   ]
  },
  {
   "cell_type": "markdown",
   "metadata": {},
   "source": [
    "Muitas classes podem ser como o \"ponto inicial\" de várias classes. Por exemplo, podemos ter dois tipos de transações bancárias de: crédito ou débito. Podemos modelar usando três classes em que `TransacaoBancaria` seja superclasse de `TransacaoCredito` e `TransacaoDebito`. A transação bancária é uma classe que não faz sentido ser instanciada, pois a forma que ela será implementada deperia se for débito ou crédito em uma determinada conta.\n",
    "\n",
    "Assim, a `TransacaoBancaria` teria a associação a `Conta`, teria os atributos de data da transação e valor:"
   ]
  },
  {
   "cell_type": "code",
   "execution_count": null,
   "metadata": {},
   "outputs": [],
   "source": [
    "from datetime import datetime\n",
    "class Conta:\n",
    "    def __init__(self, numero:str, saldo:float):\n",
    "        self.numero = numero\n",
    "        self.saldo = saldo\n",
    "\n",
    "class TransacaoBancaria:\n",
    "    def __init__(self, conta:Conta, data:datetime, valor:float):\n",
    "        self.conta = conta\n",
    "        self.valor = valor\n",
    "        self.data = data\n",
    "        \n",
    "    def efetua_transacao(self):\n",
    "        pass\n",
    "    "
   ]
  },
  {
   "cell_type": "markdown",
   "metadata": {},
   "source": [
    "Como não conseguimos implementar a transação, essa classe seria abstrata e possui um método abstrato: `efetua_transacao` pois este método só pode ser implementado pelas suas subclasses. Para isso, temos usamos a anotação `abstractmethod` além de lançar uma exceção caso para obrigarmos as subclasses a implementarmos este método: "
   ]
  },
  {
   "cell_type": "code",
   "execution_count": null,
   "metadata": {},
   "outputs": [],
   "source": [
    "from abc import abstractmethod\n",
    "\n",
    "class TransacaoBancaria:\n",
    "    def __init__(self, conta:Conta, data:datetime, valor:float):\n",
    "        self.conta = conta\n",
    "        self.valor = valor\n",
    "        self.data = data\n",
    "    @abstractmethod\n",
    "    def efetua_transacao(self):\n",
    "        raise NotImplementedError\n",
    "    \n",
    "class TransacaoCredito(TransacaoBancaria): \n",
    "    def efetua_transacao(self):\n",
    "        self.conta.saldo += self.valor\n",
    "        \n",
    "class TransacaoDebito(TransacaoBancaria): \n",
    "    def efetua_transacao(self):\n",
    "        self.conta.saldo -= self.valor"
   ]
  },
  {
   "cell_type": "code",
   "execution_count": null,
   "metadata": {},
   "outputs": [],
   "source": [
    "conta_111 = Conta(111,1000)\n",
    "\n",
    "#cria as transações e coloca-se em uma lista\n",
    "cred_10 = TransacaoCredito(conta_111,datetime.now(),10)\n",
    "cred_20 = TransacaoCredito(conta_111,datetime.now(),20)\n",
    "deb_40 = TransacaoDebito(conta_111,datetime.now(),40)\n",
    "\n",
    "arr_transacoes = [cred_10,cred_20,deb_40]\n",
    "\n",
    "#a grande vantagem de implementarmos dessa forma, é que podemos navegar em todas as \n",
    "#transacoes, sem nos preocuparmos se é uma transação de débito ou crédio (isso se chama polimorfismo)\n",
    "for transacao in arr_transacoes:\n",
    "    transacao.efetua_transacao()\n",
    "\n",
    "print(f\"Saldo final: {conta_111.saldo}\")"
   ]
  }
 ],
 "metadata": {
  "kernelspec": {
   "display_name": "Python 3",
   "language": "python",
   "name": "python3"
  },
  "language_info": {
   "codemirror_mode": {
    "name": "ipython",
    "version": 3
   },
   "file_extension": ".py",
   "mimetype": "text/x-python",
   "name": "python",
   "nbconvert_exporter": "python",
   "pygments_lexer": "ipython3",
   "version": "3.6.9"
  }
 },
 "nbformat": 4,
 "nbformat_minor": 2
}
