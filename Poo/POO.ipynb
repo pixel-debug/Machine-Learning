{
 "cells": [
  {
   "cell_type": "code",
   "execution_count": 117,
   "metadata": {},
   "outputs": [],
   "source": [
    "class Autor():\n",
    "    def __init__(self, nome,sobrenome, nascimento, nome_meio = ''):\n",
    "        self.nome = nome\n",
    "        self.nome_meio = nome_meio\n",
    "        self.sobrenome = sobrenome\n",
    "        self.nascimento = nascimento\n",
    "\n",
    "  \n",
    "    def nome_como_citado(self):\n",
    "        return f\"{self.sobrenome.upper()} {self.nome[0]}.\"\n",
    "    \n",
    "    def __str__(self):\n",
    "        \n",
    "        return f\"{self.sobrenome.upper()} {self.nome[0]}.\"\n",
    "\n",
    "    def __repr__(self):\n",
    "        return str(self)\n",
    "    \n",
    "    "
   ]
  },
  {
   "cell_type": "code",
   "execution_count": 79,
   "metadata": {},
   "outputs": [],
   "source": [
    "  \n",
    "    \n",
    "class Livro():\n",
    "    \n",
    "    def __init__(self, titulo, ano, author = []):\n",
    "        self.titulo = titulo\n",
    "        self.ano = ano\n",
    "        self.autores = author\n",
    "        \n",
    "    @property\n",
    "    def titulo(self):\n",
    "        return self._titulo\n",
    "    @titulo.setter\n",
    "    def titulo(self, erro):\n",
    "        if (erro == ''):\n",
    "            raise ValueError(\"Erro: não é possível titulo vazio\")\n",
    "        self._titulo = erro\n",
    "    \n",
    "    def __str__(self):\n",
    "        return f\"{self.titulo}, {self.ano}, {self.autores}\"\n",
    "    def __repr__(self):\n",
    "        return str(self)\n",
    "\n",
    "    \n",
    "    livros = []\n",
    "    def __lista_livros__(self):\n",
    "        \n",
    "        self.__class__.livros.append(self.titulo)\n",
    "        \n",
    "    @classmethod\n",
    "    def all(cls):\n",
    "        return cls.livros\n",
    "  "
   ]
  },
  {
   "cell_type": "code",
   "execution_count": 146,
   "metadata": {},
   "outputs": [],
   "source": [
    "from typing import List\n",
    "from collections import defaultdict\n",
    "\n",
    "class Biblioteca():\n",
    "    \n",
    "    \n",
    "    def __init__(self, livros = []):\n",
    "        self.livros = livros\n",
    "        \n",
    "    \n",
    "    def livros_por_author(self):\n",
    "        colecao = {}\n",
    "        for livro in self.livros:\n",
    "            for autor in livro.autores:\n",
    "                if  (autor.nome_como_citado() not in colecao.keys()):\n",
    "                    colecao[autor.nome_como_citado()] = [livro.titulo]\n",
    "                    \n",
    "                else:\n",
    "                    aux = colecao[autor.nome_como_citado()].copy()\n",
    "                    aux.append(livro.titulo)\n",
    "                    colecao[autor.nome_como_citado()] = aux\n",
    "        return colecao\n",
    "\n",
    "    def __str__(self):\n",
    "        colecao = \" \"\n",
    "        for livro in self.livros:\n",
    "            colecao +=  f\"{livro.titulo}\"\n",
    "        return colecao\n",
    "\n",
    "    def __repr__(self):\n",
    "        return str(self)"
   ]
  },
  {
   "cell_type": "code",
   "execution_count": 148,
   "metadata": {},
   "outputs": [
    {
     "name": "stdout",
     "output_type": "stream",
     "text": [
      "{'VERNE J.': ['20000 Leguas Submarinas', 'De la Terre à la Lune'], 'STOKER B.': ['Dracula']}\n"
     ]
    }
   ],
   "source": [
    "autor = [Autor('Julio','Verne', 1828)]\n",
    "\n",
    "livro = Livro('20000 Leguas Submarinas','1850', author = autor)\n",
    "livro1 = Livro('De la Terre à la Lune', '2009', author = autor)\n",
    "\n",
    "autor1 = [Autor('Bram','Stoker', 1870)]\n",
    "livro2 = Livro('Dracula','56',author = autor1)\n",
    "\n",
    "bib = Biblioteca([livro,livro1,livro2])\n",
    "colecao = bib.livros_por_author()\n",
    "print(colecao)\n"
   ]
  }
 ],
 "metadata": {
  "kernelspec": {
   "display_name": "Python 3",
   "language": "python",
   "name": "python3"
  },
  "language_info": {
   "codemirror_mode": {
    "name": "ipython",
    "version": 3
   },
   "file_extension": ".py",
   "mimetype": "text/x-python",
   "name": "python",
   "nbconvert_exporter": "python",
   "pygments_lexer": "ipython3",
   "version": "3.6.9"
  }
 },
 "nbformat": 4,
 "nbformat_minor": 2
}
