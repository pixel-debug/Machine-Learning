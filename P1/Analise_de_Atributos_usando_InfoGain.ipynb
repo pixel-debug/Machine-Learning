{
 "cells": [
  {
   "cell_type": "markdown",
   "metadata": {},
   "source": [
    "## Antes de Começar\n",
    "\n",
    "- Opcional: Leia e faça os exercícios sobre Python [aqui](Básico%20-%20Python.ipynb);\n",
    "- Instale o pandas. Usando pip, pode-se fazer este comando: `pip3 install pandas matplotlib numpy` (em alguns Sistemas Operacionais/configurações, você usará `pip` ao inves de `pip3`) \n",
    "\n",
    "\n"
   ]
  },
  {
   "cell_type": "markdown",
   "metadata": {},
   "source": [
    "### O que você precisa saber?"
   ]
  },
  {
   "cell_type": "markdown",
   "metadata": {},
   "source": [
    "**Pandas:** Entenda o funcionamento da biblioteca Pandas [aqui](Básico%20-%20Pandas.ipynb). Nesta prática você vai precisar entender como filtrar os dados e o uso do [value_counts](https://pandas.pydata.org/pandas-docs/stable/reference/api/pandas.Series.value_counts.html) além de como criar um Dataframe.\n",
    "\n",
    "\n",
    "**Aulas introdutórias:** Veja [a video aula 1](https://www.youtube.com/watch?v=fasqKSx2-TE&list=PLwIaU1DGYV6tUx10fCTw5aPnqypbbK_GJ&index=2&t=2s) completa e, além disso [a explicação sobre ganho de informação neste video](https://www.youtube.com/watch?v=8nV6lICu-l8&list=PLwIaU1DGYV6tUx10fCTw5aPnqypbbK_GJ&index=8). [Slides mais detalhado do calculo pode ser visto aqui](https://docs.google.com/presentation/d/1TgLJbcRj_Q5I-zqYYgMqyomKRxalW0Q0saJIS3XXeX8/edit?usp=sharing).\n",
    "\n",
    "\n",
    "### Termos importantes:\n",
    "\n",
    "**Entrada**: Representada por um vetor em que cada posição possui um indicador que auxilia na predição da tarefa em questão. Por exemplo, para prevermos se um email é spam ou não, um indicador poderia ser a quantidade de erros ortográficos.  Cada item da entrada é geralmente chamado de **atributo** - também pode ser chamado de **indicador**, **característica** ou, do inglês, **_features_**\n",
    "\n",
    "**Classe alvo (em inglês, _target class_**): é o valor que queremos prever representado por dois ou mais *rótulos* (sim ou não são dois rótulos, por exemplo).  Também chamado de **ground truth**."
   ]
  },
  {
   "cell_type": "markdown",
   "metadata": {},
   "source": [
    "## Implementação do Ganho de Informação"
   ]
  },
  {
   "cell_type": "markdown",
   "metadata": {},
   "source": [
    "Implemente o código no arquivo `ganho_informacao.py` de acordo com as instruções comentadas. Faça na ordem das funçoes que estiverem lá. Para cada função implementada, rode o teste unitário para verificar se a mesma está funcionando (veja na próxima seção). Os [slides de ganho de informação](https://docs.google.com/presentation/d/1TgLJbcRj_Q5I-zqYYgMqyomKRxalW0Q0saJIS3XXeX8/edit?usp=sharing) poderão ajudar.\n",
    "\n",
    "Caso queira, você também pode usar esse notebook para testar. Para isso, comente a importação do módulo `ganho_informacao` e copie a função aqui no notebook para testà-la e, quando tiver funcionando, copie e cole ela de volta no arquivo `ganho_informação.py`;\n",
    "\n",
    "**Atenção:** após rodar o comando de import neste notebook, caso precise mudar algo no código `ganho_informacao.py` e visualizar o resultado aqui, você deverá reiniciar o kernel (kernel -> restart)."
   ]
  },
  {
   "cell_type": "markdown",
   "metadata": {},
   "source": [
    "O teste unitário é feito executando o arquivo `tests.py` explicitando, opcionalmente, a classe/método que desejamos executar. Logo após implementar uma função, teste-o usando o teste unitário correspondente. Para isso, pressione `ctrl+enter` na célula com o comando de teste abaixo para executá-lo. Se o Python 3 do seu computador for executado como `python` você deverá alterar os comandos abaixo apropriadamente."
   ]
  },
  {
   "cell_type": "markdown",
   "metadata": {},
   "source": [
    "**Teste 1 - função `entropia`:** "
   ]
  },
  {
   "cell_type": "code",
   "execution_count": 1,
   "metadata": {},
   "outputs": [
    {
     "name": "stdout",
     "output_type": "stream",
     "text": [
      "F\r\n",
      "======================================================================\r\n",
      "FAIL: test_entropy (__main__.TestInfoGain)\r\n",
      "----------------------------------------------------------------------\r\n",
      "Traceback (most recent call last):\r\n",
      "  File \"/home/usuario/Aprendizado de maquina/p1-ganho-informacao/P1/tests.py\", line 19, in test_entropy\r\n",
      "    3,# numero de casas decimais que devem ser iguais nesse resultado\r\n",
      "AssertionError: 1.561 != 0 within 3 places\r\n",
      "\r\n",
      "----------------------------------------------------------------------\r\n",
      "Ran 1 test in 0.006s\r\n",
      "\r\n",
      "FAILED (failures=1)\r\n"
     ]
    }
   ],
   "source": [
    "!python -m tests TestInfoGain.test_entropy"
   ]
  },
  {
   "cell_type": "markdown",
   "metadata": {},
   "source": [
    "**Teste 2 - função `ganho_informacao_condicional`:**"
   ]
  },
  {
   "cell_type": "code",
   "execution_count": 2,
   "metadata": {},
   "outputs": [
    {
     "name": "stdout",
     "output_type": "stream",
     "text": [
      "E\r\n",
      "======================================================================\r\n",
      "ERROR: teste_ganho_informacao_condicional (__main__.TestInfoGain)\r\n",
      "----------------------------------------------------------------------\r\n",
      "Traceback (most recent call last):\r\n",
      "  File \"/home/usuario/Aprendizado de maquina/p1-ganho-informacao/P1/tests.py\", line 43, in teste_ganho_informacao_condicional\r\n",
      "    col,val_atributo)\r\n",
      "  File \"ganho_informacao.py\", line 31, in ganho_informacao_condicional\r\n",
      "    entropia_y = entropia(df_dados_filtrado, nom_col_classe)\r\n",
      "  File \"ganho_informacao.py\", line 16, in entropia\r\n",
      "    entropia += count_atr / num_total * (-(math.log(aux_t,2)) )\r\n",
      "NameError: global name 'math' is not defined\r\n",
      "\r\n",
      "----------------------------------------------------------------------\r\n",
      "Ran 1 test in 0.006s\r\n",
      "\r\n",
      "FAILED (errors=1)\r\n"
     ]
    }
   ],
   "source": [
    "!python -m tests TestInfoGain.teste_ganho_informacao_condicional"
   ]
  },
  {
   "cell_type": "markdown",
   "metadata": {},
   "source": [
    "**Teste 3 - função `ganho_informacao`:**"
   ]
  },
  {
   "cell_type": "code",
   "execution_count": 3,
   "metadata": {},
   "outputs": [
    {
     "name": "stdout",
     "output_type": "stream",
     "text": [
      "E\r\n",
      "======================================================================\r\n",
      "ERROR: test_info_gain (__main__.TestInfoGain)\r\n",
      "----------------------------------------------------------------------\r\n",
      "Traceback (most recent call last):\r\n",
      "  File \"/home/usuario/Aprendizado de maquina/p1-ganho-informacao/P1/tests.py\", line 60, in test_info_gain\r\n",
      "    val_obtido = ganho_informacao(TestInfoGain.df_teste,\"A\",col)\r\n",
      "  File \"ganho_informacao.py\", line 46, in ganho_informacao\r\n",
      "    gain = ganho_informacao_condicional(df_dados,entropia(df_dados, nom_col_classe),nom_col_classe,nom_atributo,val)\r\n",
      "  File \"ganho_informacao.py\", line 31, in ganho_informacao_condicional\r\n",
      "    entropia_y = entropia(df_dados_filtrado, nom_col_classe)\r\n",
      "  File \"ganho_informacao.py\", line 16, in entropia\r\n",
      "    entropia += count_atr / num_total * (-(math.log(aux_t,2)) )\r\n",
      "NameError: global name 'math' is not defined\r\n",
      "\r\n",
      "----------------------------------------------------------------------\r\n",
      "Ran 1 test in 0.007s\r\n",
      "\r\n",
      "FAILED (errors=1)\r\n"
     ]
    }
   ],
   "source": [
    "!python -m tests TestInfoGain.test_info_gain"
   ]
  },
  {
   "cell_type": "markdown",
   "metadata": {},
   "source": [
    "Importação das bibliotecas necessárias. Sempre que quiser acessar alguma função/classe do pandas use, por exemplo: pd.DataFrame()"
   ]
  },
  {
   "cell_type": "code",
   "execution_count": 4,
   "metadata": {},
   "outputs": [],
   "source": [
    "import numpy as np\n",
    "import pandas as pd\n",
    "from ganho_informacao import entropia,ganho_informacao"
   ]
  },
  {
   "cell_type": "markdown",
   "metadata": {},
   "source": [
    "Como, no código acima, chamamos o módulo pandas de \"pd\", então, temos que referencia-lo sempre que quisermos intanciar uma classe/chamar uma função deste módulo. Exemplo:"
   ]
  },
  {
   "cell_type": "code",
   "execution_count": 5,
   "metadata": {},
   "outputs": [
    {
     "data": {
      "text/html": [
       "<div>\n",
       "<style scoped>\n",
       "    .dataframe tbody tr th:only-of-type {\n",
       "        vertical-align: middle;\n",
       "    }\n",
       "\n",
       "    .dataframe tbody tr th {\n",
       "        vertical-align: top;\n",
       "    }\n",
       "\n",
       "    .dataframe thead th {\n",
       "        text-align: right;\n",
       "    }\n",
       "</style>\n",
       "<table border=\"1\" class=\"dataframe\">\n",
       "  <thead>\n",
       "    <tr style=\"text-align: right;\">\n",
       "      <th></th>\n",
       "      <th>col1</th>\n",
       "    </tr>\n",
       "  </thead>\n",
       "  <tbody>\n",
       "    <tr>\n",
       "      <th>0</th>\n",
       "      <td>a</td>\n",
       "    </tr>\n",
       "    <tr>\n",
       "      <th>1</th>\n",
       "      <td>b</td>\n",
       "    </tr>\n",
       "    <tr>\n",
       "      <th>2</th>\n",
       "      <td>c</td>\n",
       "    </tr>\n",
       "  </tbody>\n",
       "</table>\n",
       "</div>"
      ],
      "text/plain": [
       "  col1\n",
       "0    a\n",
       "1    b\n",
       "2    c"
      ]
     },
     "execution_count": 5,
     "metadata": {},
     "output_type": "execute_result"
    }
   ],
   "source": [
    "pd.DataFrame({\"col1\":[\"a\",\"b\",\"c\"]})"
   ]
  },
  {
   "cell_type": "markdown",
   "metadata": {},
   "source": [
    "Faça um DataFrame do exemplo [nos slides sobre Ganho de Informação (sobre a renda e o crédito aprovado)](https://docs.google.com/presentation/d/1TgLJbcRj_Q5I-zqYYgMqyomKRxalW0Q0saJIS3XXeX8/edit?usp=sharing). Logo após, calcule a entropia e o ganho de informação do atributo Renda. Confira os resultados com os slides."
   ]
  },
  {
   "cell_type": "code",
   "execution_count": 6,
   "metadata": {
    "scrolled": true
   },
   "outputs": [
    {
     "data": {
      "text/html": [
       "<div>\n",
       "<style scoped>\n",
       "    .dataframe tbody tr th:only-of-type {\n",
       "        vertical-align: middle;\n",
       "    }\n",
       "\n",
       "    .dataframe tbody tr th {\n",
       "        vertical-align: top;\n",
       "    }\n",
       "\n",
       "    .dataframe thead th {\n",
       "        text-align: right;\n",
       "    }\n",
       "</style>\n",
       "<table border=\"1\" class=\"dataframe\">\n",
       "  <thead>\n",
       "    <tr style=\"text-align: right;\">\n",
       "      <th></th>\n",
       "      <th>Renda</th>\n",
       "      <th>Credito Aprovado?</th>\n",
       "    </tr>\n",
       "  </thead>\n",
       "  <tbody>\n",
       "    <tr>\n",
       "      <th>0</th>\n",
       "      <td>Alta</td>\n",
       "      <td>Sim</td>\n",
       "    </tr>\n",
       "    <tr>\n",
       "      <th>1</th>\n",
       "      <td>Alta</td>\n",
       "      <td>Sim</td>\n",
       "    </tr>\n",
       "    <tr>\n",
       "      <th>2</th>\n",
       "      <td>Alta</td>\n",
       "      <td>Sim</td>\n",
       "    </tr>\n",
       "    <tr>\n",
       "      <th>3</th>\n",
       "      <td>Baixa</td>\n",
       "      <td>Não</td>\n",
       "    </tr>\n",
       "    <tr>\n",
       "      <th>4</th>\n",
       "      <td>Alta</td>\n",
       "      <td>Não</td>\n",
       "    </tr>\n",
       "    <tr>\n",
       "      <th>5</th>\n",
       "      <td>Baixa</td>\n",
       "      <td>Não</td>\n",
       "    </tr>\n",
       "    <tr>\n",
       "      <th>6</th>\n",
       "      <td>Baixa</td>\n",
       "      <td>Não</td>\n",
       "    </tr>\n",
       "    <tr>\n",
       "      <th>7</th>\n",
       "      <td>Baixa</td>\n",
       "      <td>Não</td>\n",
       "    </tr>\n",
       "  </tbody>\n",
       "</table>\n",
       "</div>"
      ],
      "text/plain": [
       "   Renda Credito Aprovado?\n",
       "0   Alta               Sim\n",
       "1   Alta               Sim\n",
       "2   Alta               Sim\n",
       "3  Baixa               Não\n",
       "4   Alta               Não\n",
       "5  Baixa               Não\n",
       "6  Baixa               Não\n",
       "7  Baixa               Não"
      ]
     },
     "execution_count": 6,
     "metadata": {},
     "output_type": "execute_result"
    }
   ],
   "source": [
    "## Seu código aqui - Criação do DataFrame \n",
    "Maçã=pd.DataFrame({\"Renda\":[\"Alta\",\"Alta\",\"Alta\",\"Baixa\",\"Alta\",\"Baixa\",\"Baixa\",\"Baixa\"],\n",
    "                   \"Credito Aprovado?\":[\"Sim\",\"Sim\",\"Sim\",\"Não\",\"Não\",\"Não\",\"Não\",\"Não\"]})\n",
    "Maçã"
   ]
  },
  {
   "cell_type": "code",
   "execution_count": null,
   "metadata": {},
   "outputs": [],
   "source": []
  },
  {
   "cell_type": "code",
   "execution_count": 7,
   "metadata": {},
   "outputs": [],
   "source": [
    "## Seu código aqui - Calculo da Entropia do atributo Renda\n",
    "\n",
    "import pandas as pd\n",
    "import math\n",
    "\n",
    "def entropia(df_dados:pd.DataFrame, nom_col_classe:str) -> float:\n",
    "    \"\"\"\n",
    "        Calcula a entropia de acordo com df_dados (DataFrame) e a classe. Use a função math.log com\n",
    "        o log na base 2. Não esqueça de importar o módulo math.\n",
    "\n",
    "        df_dados: Dados a serem considerados para o calculo da entropia\n",
    "        nom_col_classe: nome da coluna (em df_dados) que representa a classe\n",
    "    \"\"\"\n",
    "    #substitua os None/0 quando necessario para completar o código\n",
    "    #ser_count_col armazena, para cada valor da classe, a sua quantidade\n",
    "    ser_count_col = df_dados[nom_col_classe].value_counts()\n",
    "    num_total = len(df_dados)\n",
    "    entropia = 0\n",
    "\n",
    "    #Navege em ser_count_col para fazer o calculo da entropia\n",
    "    for val_atr,count_atr in ser_count_col.iteritems():\n",
    "        #altere os valores de val_prob e entropia para o calculo correto da mesma\n",
    "        #val_prob deverá ser a proporção de instancias de uma determinada classe\n",
    "        #caso tenha duvida sobre o iteritems e value_counts, consulte o passo a passo do pandas\n",
    "        val_prob = (count_atr)/num_total\n",
    "        entropia += -val_prob*math.log(val_prob,2)\n",
    "    return entropia\n",
    "\n",
    "#y=entropia(Maçã,\"Credito Aprovado?\")"
   ]
  },
  {
   "cell_type": "code",
   "execution_count": 8,
   "metadata": {},
   "outputs": [],
   "source": [
    "## Seu código aqui - Calculo do InfoGain\n",
    "\n",
    "def ganho_informacao_condicional(df_dados: pd.DataFrame, val_entropia_y:float, nom_col_classe:str, nom_atributo:str, val_atributo:str) ->float:\n",
    "    \"\"\"\n",
    "    Calcula o GI(Y|nom_atributo=val_atributo), ou seja,\n",
    "    calcula o ganho de informação do atributo 'nom_atributo' quando ele assume o valor 'val_atributo'.\n",
    "    O valor de Entropia(Y) já foi calculado e está armazenado em val_entropia_y.\n",
    "    Dica: A entropia condicional pode ser calculada filtrando o DataFrame df_dados.\n",
    "\n",
    "    df_dados: Dataframe com os dados a serem analisados.\n",
    "    val_entropia_y: Entropia(Y) (ver slides)\n",
    "    nom_col_classe: nome da coluna que representa a classe\n",
    "    nom_atributo: atributo a ser calculado o ganho de informação\n",
    "    val_atributo: valor do atributo a ser considerado para este calculo\n",
    "    \"\"\"\n",
    "    #substitua os \"None\"/0 quando necessario para completar o código\n",
    "    #.em df_dados_filtrado, filtre o df_dados da forma correta - pensando quais\n",
    "    #elementos considerar na entropia condicional Entropia(Y|nom_atributo=val_atributo).\n",
    "    df_dados_filtrado = df_dados[df_dados[nom_atributo] == val_atributo]\n",
    "\n",
    "    #use df_dados_filtrado para obter o valor de Entropia(Y|nom_atributo=val_atributo)\n",
    "    val_ent_condicional = entropia(df_dados_filtrado,nom_col_classe)\n",
    "    #use val_ent_condicional para calcular o GI(Y|nom_atributo=val_atributo)\n",
    "    val_gi = val_entropia_y - val_ent_condicional\n",
    "\n",
    "    #para testes:\n",
    "    #print(\"GI({classe}| {atr}={val}) = {val_gi}\".format(classe=nom_col_classe,atr=nom_atributo,val=val_atributo,val_gi=val_gi))\n",
    "\n",
    "    return val_gi\n",
    "\n",
    "\n",
    "#ganho_informacao_condicional(Maçã,y,\"Credito Aprovado?\",\"Renda\",\"Alta\")\n",
    "\n",
    "def ganho_informacao(df_dados:pd.DataFrame, nom_col_classe:str, nom_atributo:str) -> float:\n",
    "    \"\"\"\n",
    "        Calcula GI(Y| nom_atributo), ou seja, o ganho de informação do atributo nom_atributo.\n",
    "\n",
    "        df_dados: DataFrame com os dados a serem analisados.\n",
    "        nom_col_classe: nome da coluna que representa a classe\n",
    "        nom_atributo: atributo a ser calculado o ganho de informação\n",
    "        val_atributo: valor do atributo a ser considerado para este calculo\n",
    "    \"\"\"\n",
    "    #Muito similar ao codigo da entropia, mas aqui você deverá navegar sobre\n",
    "    #os possiveis valores do atributo nom_atributo para calcular o infoGain\n",
    "    #(usando a função ganho_informacao_condicional)\n",
    "    #substitua os \"None\"/0 quando necessario para completar o código\n",
    "\n",
    "    #atenção nessa linha abaixo, qual é o valor que temos que colocar em None?\n",
    "    #o que precisamos contabilizar dessa vez?\n",
    "    ser_count_col = df_dados[nom_atributo].value_counts()\n",
    "\n",
    "    val_entropia_y = entropia(df_dados,nom_col_classe)\n",
    "\n",
    "    num_total = len(df_dados)\n",
    "    val_info_gain = 0\n",
    "    for val_atr,count_atr in ser_count_col.iteritems():\n",
    "        val_prob = count_atr/num_total\n",
    "        val_info_gain += val_prob*ganho_informacao_condicional(df_dados,val_entropia_y,nom_col_classe,nom_atributo,val_atr)\n",
    "\n",
    "        #print(\"GI(\"+nom_col_classe+\"| \"+nom_atributo+\"=\"+val_atr+\") = \"+str(val_info_gain))\n",
    "\n",
    "    return val_info_gain\n",
    "\n",
    "#ganho_informacao(Maçã,\"Credito Aprovado?\",\"Renda\")"
   ]
  },
  {
   "cell_type": "markdown",
   "metadata": {
    "scrolled": true
   },
   "source": [
    "## Análise de Atributos para Diferenciar Espécies de [Plantas do Gênero Iris](https://en.wikipedia.org/wiki/Iris_(plant))"
   ]
  },
  {
   "cell_type": "markdown",
   "metadata": {},
   "source": [
    "<img src=\"imgs/partes_flor.png\" alt=\"Partes de uma flor\">\n",
    "\n",
    "Plantas do gênero Iris possuem diversas espécies que podem ser diferenciadas por algumas caracteristicas da flor.  Nesta prática, iremos investigar quais atributos distinguem melhor algumas espécies dessa planta. Para isso, usaremos [este dataset](iris.csv) que possui 150 plantas do gênero Iris com atributos de sua flor (propriedades): \n",
    "\n",
    "- Tamanho e largura do sépala (em cm)\n",
    "\n",
    "- Tamanho e largura da pétala (em cm)\n",
    "\n",
    "Existem 3 espécies de plantas do genero Iris na base que será usada: [Iris Setosa](https://en.wikipedia.org/wiki/Iris_setosa), [Iris Virginifica](https://en.wikipedia.org/wiki/Iris_virginica) e [Iris Versicolor](https://en.wikipedia.org/wiki/Iris_versicolor)\n",
    "\n",
    "Nesta atividade, você deverá:\n",
    "\n",
    "1. Calcular do InfoGain de cada atributo. Armazene o resultado em um DataFrame de duas colunas - nome do atributo e valor de infogain - ordene de forma decrescente pelo valor do InfoGain .\n",
    "\n",
    "1. Gerar um gráfico de disperção (*scatter plot*) em que o eixo x e y são os dois atributos com InfoGain mais altos e com 3 grupos, cada grupo, uma espécie de flor diferente.\n",
    "\n",
    "Iniciamente, leia o CSV e armazene-o em um DataFrame por meio do [método read_csv do pandas](https://pandas.pydata.org/pandas-docs/stable/reference/api/pandas.read_csv.html)."
   ]
  },
  {
   "cell_type": "code",
   "execution_count": 9,
   "metadata": {
    "scrolled": true
   },
   "outputs": [
    {
     "data": {
      "text/html": [
       "<div>\n",
       "<style scoped>\n",
       "    .dataframe tbody tr th:only-of-type {\n",
       "        vertical-align: middle;\n",
       "    }\n",
       "\n",
       "    .dataframe tbody tr th {\n",
       "        vertical-align: top;\n",
       "    }\n",
       "\n",
       "    .dataframe thead th {\n",
       "        text-align: right;\n",
       "    }\n",
       "</style>\n",
       "<table border=\"1\" class=\"dataframe\">\n",
       "  <thead>\n",
       "    <tr style=\"text-align: right;\">\n",
       "      <th></th>\n",
       "      <th>Sepal Length</th>\n",
       "      <th>Sepal Width</th>\n",
       "      <th>Petal Length</th>\n",
       "      <th>Petal Width</th>\n",
       "      <th>Species</th>\n",
       "    </tr>\n",
       "  </thead>\n",
       "  <tbody>\n",
       "    <tr>\n",
       "      <th>0</th>\n",
       "      <td>5.1</td>\n",
       "      <td>3.5</td>\n",
       "      <td>1.4</td>\n",
       "      <td>0.2</td>\n",
       "      <td>Iris-setosa</td>\n",
       "    </tr>\n",
       "    <tr>\n",
       "      <th>1</th>\n",
       "      <td>4.9</td>\n",
       "      <td>3.0</td>\n",
       "      <td>1.4</td>\n",
       "      <td>0.2</td>\n",
       "      <td>Iris-setosa</td>\n",
       "    </tr>\n",
       "    <tr>\n",
       "      <th>2</th>\n",
       "      <td>4.7</td>\n",
       "      <td>3.2</td>\n",
       "      <td>1.3</td>\n",
       "      <td>0.2</td>\n",
       "      <td>Iris-setosa</td>\n",
       "    </tr>\n",
       "    <tr>\n",
       "      <th>3</th>\n",
       "      <td>4.6</td>\n",
       "      <td>3.1</td>\n",
       "      <td>1.5</td>\n",
       "      <td>0.2</td>\n",
       "      <td>Iris-setosa</td>\n",
       "    </tr>\n",
       "    <tr>\n",
       "      <th>4</th>\n",
       "      <td>5.0</td>\n",
       "      <td>3.6</td>\n",
       "      <td>1.4</td>\n",
       "      <td>0.2</td>\n",
       "      <td>Iris-setosa</td>\n",
       "    </tr>\n",
       "    <tr>\n",
       "      <th>...</th>\n",
       "      <td>...</td>\n",
       "      <td>...</td>\n",
       "      <td>...</td>\n",
       "      <td>...</td>\n",
       "      <td>...</td>\n",
       "    </tr>\n",
       "    <tr>\n",
       "      <th>145</th>\n",
       "      <td>6.7</td>\n",
       "      <td>3.0</td>\n",
       "      <td>5.2</td>\n",
       "      <td>2.3</td>\n",
       "      <td>Iris-virginica</td>\n",
       "    </tr>\n",
       "    <tr>\n",
       "      <th>146</th>\n",
       "      <td>6.3</td>\n",
       "      <td>2.5</td>\n",
       "      <td>5.0</td>\n",
       "      <td>1.9</td>\n",
       "      <td>Iris-virginica</td>\n",
       "    </tr>\n",
       "    <tr>\n",
       "      <th>147</th>\n",
       "      <td>6.5</td>\n",
       "      <td>3.0</td>\n",
       "      <td>5.2</td>\n",
       "      <td>2.0</td>\n",
       "      <td>Iris-virginica</td>\n",
       "    </tr>\n",
       "    <tr>\n",
       "      <th>148</th>\n",
       "      <td>6.2</td>\n",
       "      <td>3.4</td>\n",
       "      <td>5.4</td>\n",
       "      <td>2.3</td>\n",
       "      <td>Iris-virginica</td>\n",
       "    </tr>\n",
       "    <tr>\n",
       "      <th>149</th>\n",
       "      <td>5.9</td>\n",
       "      <td>3.0</td>\n",
       "      <td>5.1</td>\n",
       "      <td>1.8</td>\n",
       "      <td>Iris-virginica</td>\n",
       "    </tr>\n",
       "  </tbody>\n",
       "</table>\n",
       "<p>150 rows × 5 columns</p>\n",
       "</div>"
      ],
      "text/plain": [
       "     Sepal Length  Sepal Width  Petal Length  Petal Width         Species\n",
       "0             5.1          3.5           1.4          0.2     Iris-setosa\n",
       "1             4.9          3.0           1.4          0.2     Iris-setosa\n",
       "2             4.7          3.2           1.3          0.2     Iris-setosa\n",
       "3             4.6          3.1           1.5          0.2     Iris-setosa\n",
       "4             5.0          3.6           1.4          0.2     Iris-setosa\n",
       "..            ...          ...           ...          ...             ...\n",
       "145           6.7          3.0           5.2          2.3  Iris-virginica\n",
       "146           6.3          2.5           5.0          1.9  Iris-virginica\n",
       "147           6.5          3.0           5.2          2.0  Iris-virginica\n",
       "148           6.2          3.4           5.4          2.3  Iris-virginica\n",
       "149           5.9          3.0           5.1          1.8  Iris-virginica\n",
       "\n",
       "[150 rows x 5 columns]"
      ]
     },
     "execution_count": 9,
     "metadata": {},
     "output_type": "execute_result"
    }
   ],
   "source": [
    "# Leia o CSV e armazene-o em um DataFrame - use a função read_csv do pandas\n",
    "catalogo=pd.read_csv('iris.csv')\n",
    "catalogo"
   ]
  },
  {
   "cell_type": "markdown",
   "metadata": {},
   "source": [
    "Agora, por meio das funções que você implementou, calcule o InfoGain de cada atributo. O DataFrame possui um atributo `columns` que pode ajudar. Armazene o resultado em um DataFrame de duas colunas - nome do atributo e valor de infogain - ordene essa tabela pelo InfoGain, [use o método sort_values do DataFrame](https://pandas.pydata.org/pandas-docs/version/0.19/generated/pandas.DataFrame.sort_values.html#pandas.DataFrame.sort_values). Para criação do novo DataFrame com o infogain, você pode criar uma matriz e depois adiciona-la em um DataFrame novo."
   ]
  },
  {
   "cell_type": "code",
   "execution_count": 10,
   "metadata": {},
   "outputs": [
    {
     "data": {
      "text/html": [
       "<div>\n",
       "<style scoped>\n",
       "    .dataframe tbody tr th:only-of-type {\n",
       "        vertical-align: middle;\n",
       "    }\n",
       "\n",
       "    .dataframe tbody tr th {\n",
       "        vertical-align: top;\n",
       "    }\n",
       "\n",
       "    .dataframe thead th {\n",
       "        text-align: right;\n",
       "    }\n",
       "</style>\n",
       "<table border=\"1\" class=\"dataframe\">\n",
       "  <thead>\n",
       "    <tr style=\"text-align: right;\">\n",
       "      <th></th>\n",
       "      <th>Atributos</th>\n",
       "      <th>Infogain</th>\n",
       "    </tr>\n",
       "  </thead>\n",
       "  <tbody>\n",
       "    <tr>\n",
       "      <th>1</th>\n",
       "      <td>Sepal Width</td>\n",
       "      <td>0.510870</td>\n",
       "    </tr>\n",
       "    <tr>\n",
       "      <th>0</th>\n",
       "      <td>Sepal Length</td>\n",
       "      <td>0.876938</td>\n",
       "    </tr>\n",
       "    <tr>\n",
       "      <th>3</th>\n",
       "      <td>Petal Width</td>\n",
       "      <td>1.435898</td>\n",
       "    </tr>\n",
       "    <tr>\n",
       "      <th>2</th>\n",
       "      <td>Petal Length</td>\n",
       "      <td>1.446317</td>\n",
       "    </tr>\n",
       "  </tbody>\n",
       "</table>\n",
       "</div>"
      ],
      "text/plain": [
       "      Atributos  Infogain\n",
       "1   Sepal Width  0.510870\n",
       "0  Sepal Length  0.876938\n",
       "3   Petal Width  1.435898\n",
       "2  Petal Length  1.446317"
      ]
     },
     "execution_count": 10,
     "metadata": {},
     "output_type": "execute_result"
    }
   ],
   "source": [
    "## Seu código aqui\n",
    "linha = []\n",
    "coluna = []\n",
    "for i in catalogo.columns:\n",
    "    if i != \"Species\":\n",
    "        #ganho_informacao(catalogo,i,\"Species\")\n",
    "        linha.append(ganho_informacao(catalogo,i,\"Species\"))\n",
    "        coluna.append(i)\n",
    "data = pd.DataFrame({\"Atributos\":coluna,\n",
    "                    \"Infogain\":linha})\n",
    "data_ord = data.sort_values(by=\"Infogain\")\n",
    "data_ord"
   ]
  },
  {
   "cell_type": "markdown",
   "metadata": {},
   "source": [
    "Gere um gráfico de disperção (scatter plot) em que o eixo x e y são os dois atributos com InfoGain mais altos e com 3 grupos, cada grupo, uma espécie de flor diferente. [Veja o Jupyter do Pandas, se necessário](Básico%20-%20Pandas.ipynb). "
   ]
  },
  {
   "cell_type": "code",
   "execution_count": 11,
   "metadata": {},
   "outputs": [
    {
     "data": {
      "text/plain": [
       "<AxesSubplot:xlabel='Petal Length', ylabel='Petal Width'>"
      ]
     },
     "execution_count": 11,
     "metadata": {},
     "output_type": "execute_result"
    },
    {
     "data": {
      "image/png": "[encoded data removed]",
      "text/plain": [
       "<Figure size 432x288 with 1 Axes>"
      ]
     },
     "metadata": {},
     "output_type": "display_data"
    }
   ],
   "source": [
    "# Crie o gráfico solicitado\n",
    "import pandas as pd\n",
    "import numpy as np\n",
    "import matplotlib.pyplot as plt\n",
    "\n",
    "lista=data_ord['Atributos'].tolist()\n",
    "\n",
    "catalogoIS = catalogo[catalogo[\"Species\"] == \"Iris-setosa\"]\n",
    "catalogoIVi = catalogo[catalogo[\"Species\"] == \"Iris-virginica\"]\n",
    "catalogoIVe = catalogo[catalogo[\"Species\"] == \"Iris-versicolor\"]\n",
    "\n",
    "\n",
    "plot_gp1 = catalogoIS.plot.scatter(x=lista[3], y=lista[2], color='Yellow', label='Iris Setosa')\n",
    "catalogoIVi.plot.scatter(x=lista[3], y=lista[2], color='Red', label='Iris Virginifica',ax=plot_gp1)\n",
    "catalogoIVe.plot.scatter(x=lista[3], y=lista[2], color ='Purple', label='Iris Versicolor',ax=plot_gp1)"
   ]
  },
  {
   "cell_type": "markdown",
   "metadata": {},
   "source": [
    "## Opcional: discretização dos atributos numéricos\n",
    "\n",
    "Nesta versão de InfoGain, não discretizamos quando o valor é numérico. Porém, o correto seria discretizarmos cada atributo numérico. Caso queira, discretize, para isso: \n",
    "\n",
    "- Você deverá discretizar apenas atributos numéricos. Use a função is_numeric_dtype do módulo pandas.api.types (não esqueça de importar esse módulo)\n",
    "\n",
    "- Altere o parametro 'bin' de value_counts na função ganho_informacao. [Veja a documentação](https://pandas.pydata.org/pandas-docs/version/0.17.0/generated/pandas.Series.value_counts.html); \n",
    "\n",
    "- Você deverá alterar a forma que será filtrado os valores do ganho de informação. Para o filtro, use operadores logicos bitwise e verifique como funciona o objeto [Inteval](https://pandas.pydata.org/pandas-docs/version/0.23.4/generated/pandas.Interval.html)\n",
    "\n",
    "Após discretizar, reinicie o kernel e verifique o resultado da análise novamente.\n",
    "\n",
    "Muitas vezes, depois da discritização o resultado de infogain pode mudar, nem sempre para um valor mais alto. Isso se deve a forma que ele é discretizado. Dependendo da forma, podemos perder informação. Fazer a discretização de uma forma que a divisão forneça o maior ganho de informação possível pode ser uma boa alternativa."
   ]
  },
  {
   "cell_type": "markdown",
   "metadata": {},
   "source": [
    "## Informações sobre da Base de Dados (retirada do [Weka](https://www.cs.waikato.ac.nz/ml/weka/))"
   ]
  },
  {
   "cell_type": "markdown",
   "metadata": {},
   "source": [
    "1. Title: Iris Plants Database\n",
    " \n",
    "2. Sources:\n",
    "      - (a) Creator: R.A. Fisher\n",
    "      - (b) Donor: Michael Marshall (MARSHALL%PLU@io.arc.nasa.gov)\n",
    "      - (c) Date: July, 1988\n",
    "\n",
    "3. Past Usage:\n",
    "    1. Fisher,R.A. \"The use of multiple measurements in taxonomic problems\"\n",
    "       Annual Eugenics, 7, Part II, 179-188 (1936); also in \"Contributions\n",
    "       to Mathematical Statistics\" (John Wiley, NY, 1950).\n",
    "    2. Duda,R.O., & Hart,P.E. (1973) Pattern Classification and Scene Analysis.\n",
    "       (Q327.D83) John Wiley & Sons.  ISBN 0-471-22361-1.  See page 218.\n",
    "    3. Dasarathy, B.V. (1980) \"Nosing Around the Neighborhood: A New System\n",
    "       Structure and Classification Rule for Recognition in Partially Exposed\n",
    "       Environments\".  IEEE Transactions on Pattern Analysis and Machine\n",
    "       Intelligence, Vol. PAMI-2, No. 1, 67-71.\n",
    "    4. Gates, G.W. (1972) \"The Reduced Nearest Neighbor Rule\".  IEEE \n",
    "       Transactions on Information Theory, May 1972, 431-433.\n",
    "    5. See also: 1988 MLC Proceedings, 54-64.  Cheeseman et al's AUTOCLASS II\n",
    "       conceptual clustering system finds 3 classes in the data.\n",
    " \n",
    "4. Relevant Information:\n",
    "        This is perhaps the best known database to be found in the pattern\n",
    "        recognition literature.  Fisher's paper is a classic in the field\n",
    "        and is referenced frequently to this day.  (See Duda & Hart, for\n",
    "        example.)  The data set contains 3 classes of 50 instances each,\n",
    "        where each class refers to a type of iris plant.  One class is\n",
    "        linearly separable from the other 2; the latter are NOT linearly\n",
    "        separable from each other."
   ]
  }
 ],
 "metadata": {
  "kernelspec": {
   "display_name": "Python 3",
   "language": "python",
   "name": "python3"
  },
  "language_info": {
   "codemirror_mode": {
    "name": "ipython",
    "version": 3
   },
   "file_extension": ".py",
   "mimetype": "text/x-python",
   "name": "python",
   "nbconvert_exporter": "python",
   "pygments_lexer": "ipython3",
   "version": "3.6.9"
  }
 },
 "nbformat": 4,
 "nbformat_minor": 2
}
