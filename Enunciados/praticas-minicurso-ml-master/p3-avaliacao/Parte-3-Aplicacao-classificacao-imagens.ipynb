{
 "cells": [
  {
   "cell_type": "markdown",
   "metadata": {},
   "source": [
    "## Avaliação - Classificação Automática de Segmentos de Imagens "
   ]
  },
  {
   "cell_type": "markdown",
   "metadata": {},
   "source": [
    "Nesta prática você irá avaliar um dataset de 1.500 segmentos de imagens. Nesse projeto, cada instancia representa um segmento de 3x3 pixels de uma imagem de algum dos seguintes elementos:\n",
    "\n",
    "<img src=\"segments.png\" alt=\"Imagens que foram seguementadas\">\n",
    "\n",
    "Assim, esta tarefa consiste em classificar tais segmentos de 3x3 pixels em um dos tipos de imagens externas (cimento, janela, grama, etc.). Cada instancia é representada da seguinte forma: \n",
    "\n",
    "<ol>\n",
    "    <li>region-centroid-col:  média do valor dos pixels (coluna) </li>\n",
    "    <li>region-centroid-row:  média do valor dos pixels (linha) </li>\n",
    "    <li>region-pixel-count:  o número de pixels em uma região(3x3 = 9 neste caso) </li>\n",
    "    <li>short-line-density-5: resultados de uma linha extraída no algoritmo que conta quantas linhas de comprimento 5 (qualquer orientação) com baixo contraste, menor ou igual a 5, passam pela região. </li>\n",
    "    <li>short-line-density-2:  igual a densidade de linha curta-5, mas conta linhas de alto contraste, maiores que 2 </li>\n",
    "    <li>vedge-mean: mede o contraste de pixels adjacentes horizontalmente na região. Existem 6, a média e o desvio padrão são dados. Este atributo é usado como um detector de borda vertical.</li>\n",
    "    <li>vegde-sd: desvio padrão do contraste de pixels adjacentes horizontalmente </li>\n",
    "    <li>hedge-mean: mede o contraste de pixels adjacentes verticalmente. Usado para detecção de linha horizontal. </li>\n",
    "    <li>hedge-sd: desvio padrão do contraste de pixels adjacentes verticalmente.</li>\n",
    "    <li>intensity-mean:  a média na região de (R + G + B) / 3 </li>\n",
    "    <li>rawred-mean: a média sobre a região do valor R (cor vermelha) </li>\n",
    "    <li>rawblue-mean: a média sobre a região do valor B (cor azul) </li>\n",
    "    <li>rawgreen-mean: a média sobre a região do valor G (cor verde) </li>\n",
    "    <li>exred-mean: mede o excesso de vermelho: (2R - (G + B)) </li>\n",
    "    <li>exblue-mean: mede o excesso de azul: (2B - (G + R)) </li>\n",
    "    <li>exgreen-mean: mede o excesso de verde:  (2G - (R + B)) </li>\n",
    "    <li>value-mean: transformação não-linear 3-d de RGB </li>\n",
    "    <li>saturatoin-mean: média de saturação do RGB</li>\n",
    "    <li>hue-mean: média de tonalidade do RGB </li>\n",
    "    <b><li style=\"color: red\">y-i: classe a ser inferida (ver figura acima)</li></b>\n",
    "</ol>\n",
    "\n",
    "<a href=\"https://storm.cis.fordham.edu/~gweiss/data-mining/weka-data/segment-challenge.arff\">**Referência**</a>"
   ]
  },
  {
   "cell_type": "markdown",
   "metadata": {},
   "source": [
    "**Atividade 7 - Leitura do Dataset e criação dos folds:** Leia o dataset [`segment.csv`](segment.csv). Faça a validação cruzada de 5 partições."
   ]
  },
  {
   "cell_type": "code",
   "execution_count": null,
   "metadata": {},
   "outputs": [],
   "source": []
  },
  {
   "cell_type": "markdown",
   "metadata": {},
   "source": [
    "**Atividade 8 - Variação de parametros e exibição e analise de resultados: ** Aplique, pelo menos, os métodos RandomForest e Árvore de Decisão no problema variando os parametros (no mínimo, da mesma forma que foi variado na Parte 2). Apresente os resultados faça uma analise e responda, pelo menos: quais são as classes mais dificieis/fácieis de prever? Quais se confundem mais? Qual é o melhor método de classificação? Quais são os melhores parametros para cada método de aprendizado de máquina?\n",
    "\n",
    "Para fazer a análise por classe, use as predições de todos os folds (apenas uma repetição) e gere a matriz de confusão. Qualquer dúvida, veja a aula sobre avaliação de métodos de aprendizado de máquina. A classe Resultado implementa essa matriz. "
   ]
  },
  {
   "cell_type": "code",
   "execution_count": null,
   "metadata": {},
   "outputs": [],
   "source": []
  }
 ],
 "metadata": {
  "kernelspec": {
   "display_name": "Python 3",
   "language": "python",
   "name": "python3"
  },
  "language_info": {
   "codemirror_mode": {
    "name": "ipython",
    "version": 3
   },
   "file_extension": ".py",
   "mimetype": "text/x-python",
   "name": "python",
   "nbconvert_exporter": "python",
   "pygments_lexer": "ipython3",
   "version": "3.6.9"
  }
 },
 "nbformat": 4,
 "nbformat_minor": 2
}
